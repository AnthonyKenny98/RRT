{
 "cells": [
  {
   "cell_type": "markdown",
   "metadata": {},
   "source": [
    "# Analysis"
   ]
  },
  {
   "cell_type": "markdown",
   "metadata": {},
   "source": [
    "## Setup"
   ]
  },
  {
   "cell_type": "markdown",
   "metadata": {},
   "source": [
    "Import necessary libraries"
   ]
  },
  {
   "cell_type": "code",
   "execution_count": 4,
   "metadata": {},
   "outputs": [],
   "source": [
    "import csv\n",
    "import json\n",
    "from matplotlib import pyplot as plt\n",
    "import numpy as np\n",
    "import os\n",
    "from pathlib import Path\n",
    "import shutil"
   ]
  },
  {
   "cell_type": "code",
   "execution_count": 5,
   "metadata": {},
   "outputs": [],
   "source": [
    "from analysisTools import call"
   ]
  },
  {
   "cell_type": "markdown",
   "metadata": {},
   "source": [
    "Define Constants"
   ]
  },
  {
   "cell_type": "code",
   "execution_count": 2,
   "metadata": {},
   "outputs": [],
   "source": [
    "# Required files and folders for each test batch\n",
    "REQUIRED_FILES = ['template.txt', 'tests.csv']\n",
    "REQUIRED_FOLDERS = ['results', 'logs', 'reports', 'graphs']\n",
    "\n",
    "# Parameters for params.h\n",
    "PARAMS = ['XDIM', 'YDIM', 'ZDIM',\n",
    "          'EPSILON', 'NUM_NODES', 'RESOLUTION', 'NUMBUCKETS', 'GOAL_BIAS']\n",
    "\n",
    "# Functions that we want to measure\n",
    "FUNCTIONS = [\n",
    "    # 'benchmark',\n",
    "    'getRandomNode',\n",
    "    'findNearestNode',\n",
    "    'stepFromTo',\n",
    "    'pointCollisions',\n",
    "    'edgeCollisions'\n",
    "]\n",
    "\n",
    "# Testing Methods\n",
    "METHODS = [\n",
    "    'performance'\n",
    "]\n",
    "\n",
    "COLORS = ['#999999', '#4285F4', '#34A853', '#FBBC05', '#EA4335']"
   ]
  },
  {
   "cell_type": "code",
   "execution_count": null,
   "metadata": {},
   "outputs": [],
   "source": []
  }
 ],
 "metadata": {
  "kernelspec": {
   "display_name": "Python 3",
   "language": "python",
   "name": "python3"
  },
  "language_info": {
   "codemirror_mode": {
    "name": "ipython",
    "version": 3
   },
   "file_extension": ".py",
   "mimetype": "text/x-python",
   "name": "python",
   "nbconvert_exporter": "python",
   "pygments_lexer": "ipython3",
   "version": "3.7.6"
  }
 },
 "nbformat": 4,
 "nbformat_minor": 2
}
